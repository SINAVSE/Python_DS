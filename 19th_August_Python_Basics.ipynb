{
 "cells": [
  {
   "cell_type": "markdown",
   "id": "3892417b-1dc8-4522-a5c6-f44efe2de45e",
   "metadata": {},
   "source": [
    "TOPIC: Python Basics Variable"
   ]
  },
  {
   "cell_type": "markdown",
   "id": "d940c3f7-038a-4514-9356-e85d7b745a97",
   "metadata": {},
   "source": [
    "1. Declare two variables, `x` and `y`, and assign them integer values.\n",
    "Swap the values of these variables without using any temporary\n",
    "variable."
   ]
  },
  {
   "cell_type": "code",
   "execution_count": 3,
   "id": "2d5222e5-5c71-41c5-8423-9730e726e7a4",
   "metadata": {},
   "outputs": [
    {
     "data": {
      "text/plain": [
       "(99, 45)"
      ]
     },
     "execution_count": 3,
     "metadata": {},
     "output_type": "execute_result"
    }
   ],
   "source": [
    "x=45;\n",
    "y=99;\n",
    "x=x+y;\n",
    "y=x-y;\n",
    "x=x-y;\n",
    "x,y"
   ]
  },
  {
   "cell_type": "markdown",
   "id": "7f4b6da3-0440-4f0e-8726-019a89aee36f",
   "metadata": {},
   "source": [
    "2. Create a program that calculates the area of a rectangle. Take the\n",
    "length and width as inputs from the user and store them in variables.\n",
    "Calculate and display the area."
   ]
  },
  {
   "cell_type": "code",
   "execution_count": 5,
   "id": "b2874244-65d2-43cd-a2de-baa5b7ebf68a",
   "metadata": {},
   "outputs": [
    {
     "name": "stdin",
     "output_type": "stream",
     "text": [
      "Enter length of rectangle:  30\n",
      "Enter width of rectangle:  40\n"
     ]
    },
    {
     "name": "stdout",
     "output_type": "stream",
     "text": [
      "area of rectangle is  1200\n"
     ]
    }
   ],
   "source": [
    "l=int(input('Enter length of rectangle: '))#Length\n",
    "w=int(input('Enter width of rectangle: '))#width\n",
    "#Area of rectangle\n",
    "a=l*w;\n",
    "print('area of rectangle is ',a)"
   ]
  },
  {
   "cell_type": "markdown",
   "id": "5624f897-9608-4f38-ac3c-53532e89bc5f",
   "metadata": {},
   "source": [
    "3. Write a Python program that converts temperature from Celsius to\n",
    "Fahrenheit. Take the temperature in Celsius as input, store it in a\n",
    "variable, convert it to Fahrenheit, and display the result."
   ]
  },
  {
   "cell_type": "code",
   "execution_count": 6,
   "id": "a44d99de-570b-405a-9f8c-33561482498b",
   "metadata": {},
   "outputs": [
    {
     "name": "stdin",
     "output_type": "stream",
     "text": [
      "Enter temperature in Celsius:  32.55\n"
     ]
    },
    {
     "name": "stdout",
     "output_type": "stream",
     "text": [
      "Temperature in Fahrenheit is:  90.59\n"
     ]
    }
   ],
   "source": [
    "t=float(input('Enter temperature in Celsius: '))#Temperature input\n",
    "F= (t*(9/5))+32;\n",
    "print('Temperature in Fahrenheit is: ',F)"
   ]
  },
  {
   "cell_type": "markdown",
   "id": "bedee0d5-92c0-4cc2-850c-5ae8b9a73fd9",
   "metadata": {},
   "source": [
    "TOPIC: String Based Questions"
   ]
  },
  {
   "cell_type": "markdown",
   "id": "4226320d-cb60-4894-9281-1f9fb345a0e3",
   "metadata": {},
   "source": [
    "1. Write a Python program that takes a string as input and prints the\n",
    "length of the string."
   ]
  },
  {
   "cell_type": "code",
   "execution_count": 7,
   "id": "b1cb4803-ffad-4ee5-83f3-cde389bb1aa3",
   "metadata": {},
   "outputs": [
    {
     "name": "stdin",
     "output_type": "stream",
     "text": [
      "Enter string:  'This is my first assignment'\n"
     ]
    },
    {
     "name": "stdout",
     "output_type": "stream",
     "text": [
      "29\n"
     ]
    }
   ],
   "source": [
    "s=input('Enter string: ')\n",
    "print(len(s))"
   ]
  },
  {
   "cell_type": "markdown",
   "id": "b201d22c-4975-44aa-b13b-961d279c300d",
   "metadata": {},
   "source": [
    "2. Create a program that takes a sentence from the user and counts the\n",
    "number of vowels (a, e, i, o, u) in the string."
   ]
  },
  {
   "cell_type": "code",
   "execution_count": 9,
   "id": "1b5ea97b-c0d7-4452-b2ba-ab7b7652bb89",
   "metadata": {},
   "outputs": [
    {
     "name": "stdin",
     "output_type": "stream",
     "text": [
      "Enter sentence:  'Monday morning blues'\n"
     ]
    },
    {
     "data": {
      "text/plain": [
       "(1, 1, 1, 2, 1)"
      ]
     },
     "execution_count": 9,
     "metadata": {},
     "output_type": "execute_result"
    }
   ],
   "source": [
    "s2=input('Enter sentence: ')\n",
    "s2.count('a'), s2.count('e'),s2.count('i'),s2.count('o'),s2.count('u')"
   ]
  },
  {
   "cell_type": "markdown",
   "id": "a7838a9c-9bdb-496c-85ca-febd5e78e171",
   "metadata": {},
   "source": [
    "3. Given a string, reverse the order of characters using string slicing and\n",
    "print the reversed string."
   ]
  },
  {
   "cell_type": "code",
   "execution_count": 10,
   "id": "3fd18abf-0a73-42ff-9e3d-c8e8c3ee5138",
   "metadata": {},
   "outputs": [
    {
     "name": "stdout",
     "output_type": "stream",
     "text": [
      "!negroM netuG\n"
     ]
    }
   ],
   "source": [
    "s3='Guten Morgen!'\n",
    "print(s3[::-1])"
   ]
  },
  {
   "cell_type": "markdown",
   "id": "5238ee52-f37f-4af5-81ea-f15fd5581b77",
   "metadata": {},
   "source": [
    "4. Write a program that takes a string as input and checks if it is a\n",
    "palindrome (reads the same forwards and backwards)."
   ]
  },
  {
   "cell_type": "code",
   "execution_count": 11,
   "id": "72d65117-acee-437c-819c-33d299d81039",
   "metadata": {},
   "outputs": [
    {
     "name": "stdout",
     "output_type": "stream",
     "text": [
      "Is rotor palindrome:  True\n",
      "Is work palindrome:  False\n"
     ]
    }
   ],
   "source": [
    "s1='rotor'\n",
    "s2='work'\n",
    "s11=s1[::-1]\n",
    "s22=s2[::-1]\n",
    "print('Is rotor palindrome: ',s11 in s1)\n",
    "print('Is work palindrome: ',s22 in s2)"
   ]
  },
  {
   "cell_type": "markdown",
   "id": "d8bcb40d-fbc0-48cc-9316-5c478a30a684",
   "metadata": {},
   "source": [
    "5. Create a program that takes a string as input and removes all the\n",
    "spaces from it. Print the modified string without spaces."
   ]
  },
  {
   "cell_type": "code",
   "execution_count": 14,
   "id": "c99d8674-c6c3-49a0-9a50-078a110b4285",
   "metadata": {},
   "outputs": [
    {
     "name": "stdin",
     "output_type": "stream",
     "text": [
      "Enter string:  ' A lion and a fox ! '\n"
     ]
    },
    {
     "name": "stdout",
     "output_type": "stream",
     "text": [
      "'Alionandafox!'\n"
     ]
    }
   ],
   "source": [
    "s5=input('Enter string: ')\n",
    "print(s5.replace(' ',''))"
   ]
  },
  {
   "cell_type": "code",
   "execution_count": null,
   "id": "eba99aa8-c9ec-44a8-b8b4-52456218ba94",
   "metadata": {},
   "outputs": [],
   "source": []
  }
 ],
 "metadata": {
  "kernelspec": {
   "display_name": "Python 3 (ipykernel)",
   "language": "python",
   "name": "python3"
  },
  "language_info": {
   "codemirror_mode": {
    "name": "ipython",
    "version": 3
   },
   "file_extension": ".py",
   "mimetype": "text/x-python",
   "name": "python",
   "nbconvert_exporter": "python",
   "pygments_lexer": "ipython3",
   "version": "3.10.8"
  }
 },
 "nbformat": 4,
 "nbformat_minor": 5
}
